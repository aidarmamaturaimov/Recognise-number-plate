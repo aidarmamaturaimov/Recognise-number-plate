{
 "cells": [
  {
   "cell_type": "code",
   "execution_count": 1,
   "metadata": {},
   "outputs": [],
   "source": [
    "import numpy as np\n",
    "import cv2 as cv\n",
    "import os\n",
    "from datetime import datetime\n",
    "from matplotlib import pyplot as plt\n",
    "from easyocr import Reader"
   ]
  },
  {
   "cell_type": "code",
   "execution_count": 2,
   "metadata": {
    "scrolled": true
   },
   "outputs": [],
   "source": [
    "people = ['car']\n",
    "\n",
    "# direction to the folder with images\n",
    "DIR = r'E:\\images'\n",
    "\n",
    "haar = cv.CascadeClassifier('haar_plate.xml')\n",
    "\n",
    "features = []\n",
    "labels = []\n",
    "\n",
    "def create_train():\n",
    "    for person in people:\n",
    "        path = os.path.join(DIR, person)\n",
    "        label = people.index(person)\n",
    "\n",
    "        for img in os.listdir(path):\n",
    "            img_path = os.path.join(path, img)\n",
    "\n",
    "            img_array = cv.imread(img_path)\n",
    "            gray = cv.cvtColor(img_array, cv.COLOR_BGR2GRAY)\n",
    "\n",
    "            faces_rect = haar.detectMultiScale(gray)\n",
    "\n",
    "            for (x, y, w, h) in faces_rect:\n",
    "                faces_roi = gray[y:y+h, x:x+w]\n",
    "                features.append(faces_roi)\n",
    "                labels.append(label)"
   ]
  },
  {
   "cell_type": "code",
   "execution_count": 3,
   "metadata": {},
   "outputs": [
    {
     "name": "stdout",
     "output_type": "stream",
     "text": [
      "НАТРЕНИРОВАНО! ---------------\n"
     ]
    }
   ],
   "source": [
    "create_train()\n",
    "\n",
    "print('НАТРЕНИРОВАНО! ---------------')\n",
    "\n",
    "features = np.array(features, dtype='object')\n",
    "labels = np.array(labels)\n",
    "\n",
    "face_recognizer = cv.face.LBPHFaceRecognizer_create()\n",
    "\n",
    "# Train the Recognizer on the features list and the labels list\n",
    "face_recognizer.train(features,labels)\n",
    "\n",
    "face_recognizer.save('plate_trained.yml')\n",
    "np.save('features.npy', features)\n",
    "np.save('labels.npy', labels)"
   ]
  },
  {
   "cell_type": "code",
   "execution_count": null,
   "metadata": {},
   "outputs": [],
   "source": []
  },
  {
   "cell_type": "code",
   "execution_count": 27,
   "metadata": {},
   "outputs": [
    {
     "name": "stderr",
     "output_type": "stream",
     "text": [
      "CUDA not available - defaulting to CPU. Note: This module is much faster with a GPU.\n"
     ]
    },
    {
     "ename": "NameError",
     "evalue": "name 'edged' is not defined",
     "output_type": "error",
     "traceback": [
      "\u001b[1;31m---------------------------------------------------------------------------\u001b[0m",
      "\u001b[1;31mNameError\u001b[0m                                 Traceback (most recent call last)",
      "\u001b[1;32m<ipython-input-27-e47c74a0f435>\u001b[0m in \u001b[0;36m<module>\u001b[1;34m\u001b[0m\n\u001b[0;32m     23\u001b[0m     \u001b[0mdetection\u001b[0m \u001b[1;33m=\u001b[0m \u001b[0mreader\u001b[0m\u001b[1;33m.\u001b[0m\u001b[0mreadtext\u001b[0m\u001b[1;33m(\u001b[0m\u001b[0mlicense_plate\u001b[0m\u001b[1;33m)\u001b[0m\u001b[1;33m\u001b[0m\u001b[1;33m\u001b[0m\u001b[0m\n\u001b[0;32m     24\u001b[0m \u001b[1;33m\u001b[0m\u001b[0m\n\u001b[1;32m---> 25\u001b[1;33m     \u001b[0mcontours\u001b[0m\u001b[1;33m,\u001b[0m \u001b[0m_\u001b[0m \u001b[1;33m=\u001b[0m \u001b[0mcv\u001b[0m\u001b[1;33m.\u001b[0m\u001b[0mfindContours\u001b[0m\u001b[1;33m(\u001b[0m\u001b[0medged\u001b[0m\u001b[1;33m,\u001b[0m \u001b[0mcv\u001b[0m\u001b[1;33m.\u001b[0m\u001b[0mRETR_TREE\u001b[0m\u001b[1;33m,\u001b[0m \u001b[0mcv\u001b[0m\u001b[1;33m.\u001b[0m\u001b[0mCHAIN_APPROX_SIMPLE\u001b[0m\u001b[1;33m)\u001b[0m\u001b[1;33m\u001b[0m\u001b[1;33m\u001b[0m\u001b[0m\n\u001b[0m\u001b[0;32m     26\u001b[0m     \u001b[0mcontours\u001b[0m \u001b[1;33m=\u001b[0m \u001b[0msorted\u001b[0m\u001b[1;33m(\u001b[0m\u001b[0mcontours\u001b[0m\u001b[1;33m,\u001b[0m \u001b[0mkey\u001b[0m \u001b[1;33m=\u001b[0m \u001b[0mcv\u001b[0m\u001b[1;33m.\u001b[0m\u001b[0mcontourArea\u001b[0m\u001b[1;33m,\u001b[0m \u001b[0mreverse\u001b[0m \u001b[1;33m=\u001b[0m \u001b[1;32mTrue\u001b[0m\u001b[1;33m)\u001b[0m\u001b[1;33m[\u001b[0m\u001b[1;33m:\u001b[0m\u001b[1;36m5\u001b[0m\u001b[1;33m]\u001b[0m\u001b[1;33m\u001b[0m\u001b[1;33m\u001b[0m\u001b[0m\n\u001b[0;32m     27\u001b[0m \u001b[1;33m\u001b[0m\u001b[0m\n",
      "\u001b[1;31mNameError\u001b[0m: name 'edged' is not defined"
     ]
    }
   ],
   "source": [
    "haar_cascade = cv.CascadeClassifier('haar_plate.xml')\n",
    "\n",
    "people = ['car']\n",
    "#features = np.load('features.npy', allow_pickle=True)\n",
    "# labels = np.load('labels.npy')\n",
    "\n",
    "face_recognizer = cv.face.LBPHFaceRecognizer_create()\n",
    "face_recognizer.read('face_trained.yml')\n",
    "\n",
    "img = cv.imread(r'E:\\images\\car\\1.jpg')\n",
    "\n",
    "gray = cv.cvtColor(img, cv.COLOR_BGR2GRAY)\n",
    "\n",
    "\n",
    "\n",
    "# Detect the face in the image\n",
    "faces_rect = haar_cascade.detectMultiScale(gray)\n",
    "\n",
    "for (x,y,w,h) in faces_rect:\n",
    "    faces_roi = gray[y:y+h,x:x+w]\n",
    "    reader = Reader(['en'])\n",
    "    license_plate = gray[y:y + h, x:x + w]\n",
    "    detection = reader.readtext(license_plate)\n",
    "    \n",
    "    contours, _ = cv.findContours(edged, cv.RETR_TREE, cv.CHAIN_APPROX_SIMPLE)\n",
    "    contours = sorted(contours, key = cv.contourArea, reverse = True)[:5]\n",
    "\n",
    "\n",
    "    for c in contours:\n",
    "        peri = cv.arcLength(c, True)\n",
    "        approx = cv.approxPolyDP(c, 0.02 * peri, True)\n",
    "\n",
    "        if len(approx) == 4:\n",
    "            n_plate_cnt = approx\n",
    "            break        \n",
    "\n",
    "    (x, y, w, h) = cv.boundingRect(n_plate_cnt)\n",
    "    \n",
    "    \n",
    "    \n",
    "    label, confidence = face_recognizer.predict(faces_roi)\n",
    "    print(f'Label = {people[label]} with a confidence of {confidence}')\n",
    "\n",
    "    if len(detection) == 0:\n",
    "        text = \"Impossible to find the cars license plate\"\n",
    "        cv.putText(img, text, (20, 40), cv.FONT_HERSHEY_SIMPLEX, 0.75, (0, 0, 255), 3)\n",
    "    #     cv2.imshow('Image', image)\n",
    "    #     cv2.waitKey(0)\n",
    "        plt.imshow(cv.cvtColor(img, cv.COLOR_BGR2RGB))\n",
    "\n",
    "    else:\n",
    "        cv.drawContours(img, [n_plate_cnt], -1, (0, 255, 0), 3)\n",
    "        text = f\"{detection[0][1]} {detection[0][2] * 100:.2f}%\"\n",
    "        cv.putText(img, text, (x, y - 20), cv.FONT_HERSHEY_SIMPLEX, 0.75, (0, 255, 0), 2)\n",
    "    \n",
    "    cv.putText(img, str(people[label]), (20,20), cv.FONT_HERSHEY_COMPLEX, 1.0, (0,255,0), thickness=2)\n",
    "    cv.rectangle(img, (x,y), (x+w,y+h), (0,255,0), thickness=2)\n",
    "\n",
    "cv.imshow('Detected Face', img)\n",
    "\n",
    "cv.waitKey(0)\n",
    "\n",
    "cv.destroyAllWindows()"
   ]
  },
  {
   "cell_type": "code",
   "execution_count": null,
   "metadata": {},
   "outputs": [],
   "source": []
  },
  {
   "cell_type": "code",
   "execution_count": 4,
   "metadata": {},
   "outputs": [
    {
     "name": "stderr",
     "output_type": "stream",
     "text": [
      "CUDA not available - defaulting to CPU. Note: This module is much faster with a GPU.\n"
     ]
    },
    {
     "name": "stdout",
     "output_type": "stream",
     "text": [
      "Label = car with a confidence of 107.72079839508274\n"
     ]
    },
    {
     "ename": "error",
     "evalue": "Unknown C++ exception from OpenCV code",
     "output_type": "error",
     "traceback": [
      "\u001b[1;31m---------------------------------------------------------------------------\u001b[0m",
      "\u001b[1;31merror\u001b[0m                                     Traceback (most recent call last)",
      "\u001b[1;32m<ipython-input-4-7205f2a47161>\u001b[0m in \u001b[0;36m<module>\u001b[1;34m\u001b[0m\n\u001b[0;32m     21\u001b[0m \u001b[1;33m\u001b[0m\u001b[0m\n\u001b[0;32m     22\u001b[0m         \u001b[0mreader\u001b[0m \u001b[1;33m=\u001b[0m \u001b[0mReader\u001b[0m\u001b[1;33m(\u001b[0m\u001b[1;33m[\u001b[0m\u001b[1;34m'en'\u001b[0m\u001b[1;33m]\u001b[0m\u001b[1;33m)\u001b[0m\u001b[1;33m\u001b[0m\u001b[1;33m\u001b[0m\u001b[0m\n\u001b[1;32m---> 23\u001b[1;33m         \u001b[0mdetection\u001b[0m \u001b[1;33m=\u001b[0m \u001b[0mreader\u001b[0m\u001b[1;33m.\u001b[0m\u001b[0mreadtext\u001b[0m\u001b[1;33m(\u001b[0m\u001b[0mlicense_plate\u001b[0m\u001b[1;33m)\u001b[0m\u001b[1;33m\u001b[0m\u001b[1;33m\u001b[0m\u001b[0m\n\u001b[0m\u001b[0;32m     24\u001b[0m \u001b[1;33m\u001b[0m\u001b[0m\n\u001b[0;32m     25\u001b[0m         \u001b[1;32mif\u001b[0m \u001b[0mlen\u001b[0m\u001b[1;33m(\u001b[0m\u001b[0mdetection\u001b[0m\u001b[1;33m)\u001b[0m \u001b[1;33m==\u001b[0m \u001b[1;36m0\u001b[0m\u001b[1;33m:\u001b[0m\u001b[1;33m\u001b[0m\u001b[1;33m\u001b[0m\u001b[0m\n",
      "\u001b[1;32mC:\\pary\\lib\\site-packages\\easyocr\\easyocr.py\u001b[0m in \u001b[0;36mreadtext\u001b[1;34m(self, image, decoder, beamWidth, batch_size, workers, allowlist, blocklist, detail, rotation_info, paragraph, min_size, contrast_ths, adjust_contrast, filter_ths, text_threshold, low_text, link_threshold, canvas_size, mag_ratio, slope_ths, ycenter_ths, height_ths, width_ths, y_ths, x_ths, add_margin, output_format)\u001b[0m\n\u001b[0;32m    390\u001b[0m         \u001b[0mimg\u001b[0m\u001b[1;33m,\u001b[0m \u001b[0mimg_cv_grey\u001b[0m \u001b[1;33m=\u001b[0m \u001b[0mreformat_input\u001b[0m\u001b[1;33m(\u001b[0m\u001b[0mimage\u001b[0m\u001b[1;33m)\u001b[0m\u001b[1;33m\u001b[0m\u001b[1;33m\u001b[0m\u001b[0m\n\u001b[0;32m    391\u001b[0m \u001b[1;33m\u001b[0m\u001b[0m\n\u001b[1;32m--> 392\u001b[1;33m         horizontal_list, free_list = self.detect(img, min_size, text_threshold,\\\n\u001b[0m\u001b[0;32m    393\u001b[0m                                                  \u001b[0mlow_text\u001b[0m\u001b[1;33m,\u001b[0m \u001b[0mlink_threshold\u001b[0m\u001b[1;33m,\u001b[0m\u001b[0;31m\\\u001b[0m\u001b[1;33m\u001b[0m\u001b[1;33m\u001b[0m\u001b[0m\n\u001b[0;32m    394\u001b[0m                                                  \u001b[0mcanvas_size\u001b[0m\u001b[1;33m,\u001b[0m \u001b[0mmag_ratio\u001b[0m\u001b[1;33m,\u001b[0m\u001b[0;31m\\\u001b[0m\u001b[1;33m\u001b[0m\u001b[1;33m\u001b[0m\u001b[0m\n",
      "\u001b[1;32mC:\\pary\\lib\\site-packages\\easyocr\\easyocr.py\u001b[0m in \u001b[0;36mdetect\u001b[1;34m(self, img, min_size, text_threshold, low_text, link_threshold, canvas_size, mag_ratio, slope_ths, ycenter_ths, height_ths, width_ths, add_margin, reformat, optimal_num_chars)\u001b[0m\n\u001b[0;32m    277\u001b[0m             \u001b[0mimg\u001b[0m\u001b[1;33m,\u001b[0m \u001b[0mimg_cv_grey\u001b[0m \u001b[1;33m=\u001b[0m \u001b[0mreformat_input\u001b[0m\u001b[1;33m(\u001b[0m\u001b[0mimg\u001b[0m\u001b[1;33m)\u001b[0m\u001b[1;33m\u001b[0m\u001b[1;33m\u001b[0m\u001b[0m\n\u001b[0;32m    278\u001b[0m \u001b[1;33m\u001b[0m\u001b[0m\n\u001b[1;32m--> 279\u001b[1;33m         text_box_list = get_textbox(self.detector, img, canvas_size, mag_ratio,\n\u001b[0m\u001b[0;32m    280\u001b[0m                                     \u001b[0mtext_threshold\u001b[0m\u001b[1;33m,\u001b[0m \u001b[0mlink_threshold\u001b[0m\u001b[1;33m,\u001b[0m \u001b[0mlow_text\u001b[0m\u001b[1;33m,\u001b[0m\u001b[1;33m\u001b[0m\u001b[1;33m\u001b[0m\u001b[0m\n\u001b[0;32m    281\u001b[0m                                     False, self.device, optimal_num_chars)\n",
      "\u001b[1;32mC:\\pary\\lib\\site-packages\\easyocr\\detection.py\u001b[0m in \u001b[0;36mget_textbox\u001b[1;34m(detector, image, canvas_size, mag_ratio, text_threshold, link_threshold, low_text, poly, device, optimal_num_chars)\u001b[0m\n\u001b[0;32m     93\u001b[0m     \u001b[0mresult\u001b[0m \u001b[1;33m=\u001b[0m \u001b[1;33m[\u001b[0m\u001b[1;33m]\u001b[0m\u001b[1;33m\u001b[0m\u001b[1;33m\u001b[0m\u001b[0m\n\u001b[0;32m     94\u001b[0m     \u001b[0mestimate_num_chars\u001b[0m \u001b[1;33m=\u001b[0m \u001b[0moptimal_num_chars\u001b[0m \u001b[1;32mis\u001b[0m \u001b[1;32mnot\u001b[0m \u001b[1;32mNone\u001b[0m\u001b[1;33m\u001b[0m\u001b[1;33m\u001b[0m\u001b[0m\n\u001b[1;32m---> 95\u001b[1;33m     bboxes_list, polys_list = test_net(canvas_size, mag_ratio, detector,\n\u001b[0m\u001b[0;32m     96\u001b[0m                                        \u001b[0mimage\u001b[0m\u001b[1;33m,\u001b[0m \u001b[0mtext_threshold\u001b[0m\u001b[1;33m,\u001b[0m\u001b[1;33m\u001b[0m\u001b[1;33m\u001b[0m\u001b[0m\n\u001b[0;32m     97\u001b[0m                                        \u001b[0mlink_threshold\u001b[0m\u001b[1;33m,\u001b[0m \u001b[0mlow_text\u001b[0m\u001b[1;33m,\u001b[0m \u001b[0mpoly\u001b[0m\u001b[1;33m,\u001b[0m\u001b[1;33m\u001b[0m\u001b[1;33m\u001b[0m\u001b[0m\n",
      "\u001b[1;32mC:\\pary\\lib\\site-packages\\easyocr\\detection.py\u001b[0m in \u001b[0;36mtest_net\u001b[1;34m(canvas_size, mag_ratio, net, image, text_threshold, link_threshold, low_text, poly, device, estimate_num_chars)\u001b[0m\n\u001b[0;32m     53\u001b[0m \u001b[1;33m\u001b[0m\u001b[0m\n\u001b[0;32m     54\u001b[0m         \u001b[1;31m# Post-processing\u001b[0m\u001b[1;33m\u001b[0m\u001b[1;33m\u001b[0m\u001b[1;33m\u001b[0m\u001b[0m\n\u001b[1;32m---> 55\u001b[1;33m         boxes, polys, mapper = getDetBoxes(\n\u001b[0m\u001b[0;32m     56\u001b[0m             score_text, score_link, text_threshold, link_threshold, low_text, poly, estimate_num_chars)\n\u001b[0;32m     57\u001b[0m \u001b[1;33m\u001b[0m\u001b[0m\n",
      "\u001b[1;32mC:\\pary\\lib\\site-packages\\easyocr\\craft_utils.py\u001b[0m in \u001b[0;36mgetDetBoxes\u001b[1;34m(textmap, linkmap, text_threshold, link_threshold, low_text, poly, estimate_num_chars)\u001b[0m\n\u001b[0;32m    234\u001b[0m     \u001b[1;32mif\u001b[0m \u001b[0mpoly\u001b[0m \u001b[1;32mand\u001b[0m \u001b[0mestimate_num_chars\u001b[0m\u001b[1;33m:\u001b[0m\u001b[1;33m\u001b[0m\u001b[1;33m\u001b[0m\u001b[0m\n\u001b[0;32m    235\u001b[0m         \u001b[1;32mraise\u001b[0m \u001b[0mException\u001b[0m\u001b[1;33m(\u001b[0m\u001b[1;34m\"Estimating the number of characters not currently supported with poly.\"\u001b[0m\u001b[1;33m)\u001b[0m\u001b[1;33m\u001b[0m\u001b[1;33m\u001b[0m\u001b[0m\n\u001b[1;32m--> 236\u001b[1;33m     \u001b[0mboxes\u001b[0m\u001b[1;33m,\u001b[0m \u001b[0mlabels\u001b[0m\u001b[1;33m,\u001b[0m \u001b[0mmapper\u001b[0m \u001b[1;33m=\u001b[0m \u001b[0mgetDetBoxes_core\u001b[0m\u001b[1;33m(\u001b[0m\u001b[0mtextmap\u001b[0m\u001b[1;33m,\u001b[0m \u001b[0mlinkmap\u001b[0m\u001b[1;33m,\u001b[0m \u001b[0mtext_threshold\u001b[0m\u001b[1;33m,\u001b[0m \u001b[0mlink_threshold\u001b[0m\u001b[1;33m,\u001b[0m \u001b[0mlow_text\u001b[0m\u001b[1;33m,\u001b[0m \u001b[0mestimate_num_chars\u001b[0m\u001b[1;33m)\u001b[0m\u001b[1;33m\u001b[0m\u001b[1;33m\u001b[0m\u001b[0m\n\u001b[0m\u001b[0;32m    237\u001b[0m \u001b[1;33m\u001b[0m\u001b[0m\n\u001b[0;32m    238\u001b[0m     \u001b[1;32mif\u001b[0m \u001b[0mpoly\u001b[0m\u001b[1;33m:\u001b[0m\u001b[1;33m\u001b[0m\u001b[1;33m\u001b[0m\u001b[0m\n",
      "\u001b[1;32mC:\\pary\\lib\\site-packages\\easyocr\\craft_utils.py\u001b[0m in \u001b[0;36mgetDetBoxes_core\u001b[1;34m(textmap, linkmap, text_threshold, link_threshold, low_text, estimate_num_chars)\u001b[0m\n\u001b[0;32m     29\u001b[0m \u001b[1;33m\u001b[0m\u001b[0m\n\u001b[0;32m     30\u001b[0m     \u001b[0mtext_score_comb\u001b[0m \u001b[1;33m=\u001b[0m \u001b[0mnp\u001b[0m\u001b[1;33m.\u001b[0m\u001b[0mclip\u001b[0m\u001b[1;33m(\u001b[0m\u001b[0mtext_score\u001b[0m \u001b[1;33m+\u001b[0m \u001b[0mlink_score\u001b[0m\u001b[1;33m,\u001b[0m \u001b[1;36m0\u001b[0m\u001b[1;33m,\u001b[0m \u001b[1;36m1\u001b[0m\u001b[1;33m)\u001b[0m\u001b[1;33m\u001b[0m\u001b[1;33m\u001b[0m\u001b[0m\n\u001b[1;32m---> 31\u001b[1;33m     \u001b[0mnLabels\u001b[0m\u001b[1;33m,\u001b[0m \u001b[0mlabels\u001b[0m\u001b[1;33m,\u001b[0m \u001b[0mstats\u001b[0m\u001b[1;33m,\u001b[0m \u001b[0mcentroids\u001b[0m \u001b[1;33m=\u001b[0m \u001b[0mcv2\u001b[0m\u001b[1;33m.\u001b[0m\u001b[0mconnectedComponentsWithStats\u001b[0m\u001b[1;33m(\u001b[0m\u001b[0mtext_score_comb\u001b[0m\u001b[1;33m.\u001b[0m\u001b[0mastype\u001b[0m\u001b[1;33m(\u001b[0m\u001b[0mnp\u001b[0m\u001b[1;33m.\u001b[0m\u001b[0muint8\u001b[0m\u001b[1;33m)\u001b[0m\u001b[1;33m,\u001b[0m \u001b[0mconnectivity\u001b[0m\u001b[1;33m=\u001b[0m\u001b[1;36m4\u001b[0m\u001b[1;33m)\u001b[0m\u001b[1;33m\u001b[0m\u001b[1;33m\u001b[0m\u001b[0m\n\u001b[0m\u001b[0;32m     32\u001b[0m \u001b[1;33m\u001b[0m\u001b[0m\n\u001b[0;32m     33\u001b[0m     \u001b[0mdet\u001b[0m \u001b[1;33m=\u001b[0m \u001b[1;33m[\u001b[0m\u001b[1;33m]\u001b[0m\u001b[1;33m\u001b[0m\u001b[1;33m\u001b[0m\u001b[0m\n",
      "\u001b[1;31merror\u001b[0m: Unknown C++ exception from OpenCV code"
     ]
    }
   ],
   "source": [
    "import numpy as np\n",
    "\n",
    "face = cv.CascadeClassifier('haar_plate.xml')\n",
    "people = ['car']\n",
    "vid = cv.VideoCapture(0)\n",
    "face_recognizer = cv.face.LBPHFaceRecognizer_create()\n",
    "face_recognizer.read('plate_trained.yml')\n",
    "\n",
    "while 1:\n",
    "    \n",
    "    ret, img = vid.read()\n",
    "    img = cv.flip(img, 1)\n",
    "    gray = cv.cvtColor(img, cv.COLOR_BGR2GRAY)\n",
    "    faces = face.detectMultiScale(gray, 1.3, 5)\n",
    "    \n",
    "\n",
    "    for (x,y,w,h) in faces:\n",
    "        license_plate = gray[y:y+h,x:x+w]\n",
    "        label, confidence = face_recognizer.predict(license_plate)\n",
    "        print(f'Label = {people[label]} with a confidence of {confidence}')\n",
    "        \n",
    "        reader = Reader(['en'])\n",
    "        detection = reader.readtext(license_plate)\n",
    "\n",
    "        if len(detection) == 0:\n",
    "            text = \"Impossible to find the cars license plate\"\n",
    "            cv.putText(img, text, (20, 40), cv.FONT_HERSHEY_SIMPLEX, 0.75, (0, 0, 255), 3)\n",
    "        #     cv2.imshow('Image', image)\n",
    "        #     cv2.waitKey(0)\n",
    "            plt.imshow(cv.cvtColor(img, cv.COLOR_BGR2RGB))\n",
    "\n",
    "        else:\n",
    "            cv.drawContours(img, [n_plate_cnt], -1, (0, 255, 0), 3)\n",
    "            text = f\"{detection[0][1]} {detection[0][2] * 100:.2f}%\"\n",
    "            cv.putText(img, text, (x, y - 20), cv.FONT_HERSHEY_SIMPLEX, 0.75, (0, 255, 0), 2)\n",
    "        \n",
    "        cv.putText(img, str(people[label]), (20,20), cv.FONT_HERSHEY_COMPLEX, 1.0, (255,0,0), thickness=2)\n",
    "        cv.rectangle(img,(x,y),(x+w,y+h),(0,204,0),2)\n",
    "        roi_gray = gray[y:y+h, x:x+w]\n",
    "        roi_color = img[y:y+h, x:x+w]\n",
    "        print (int(x+w/2), int(y+h/2))\n",
    "        \n",
    "    cv.imshow('img',img)\n",
    "    k = cv.waitKey(30) & 0xff\n",
    "    if k == 27: # press 'ESC' to quit\n",
    "        break\n",
    "\n",
    "vid.release()\n",
    "cv.destroyAllWindows()"
   ]
  },
  {
   "cell_type": "code",
   "execution_count": null,
   "metadata": {},
   "outputs": [],
   "source": []
  }
 ],
 "metadata": {
  "kernelspec": {
   "display_name": "Python 3",
   "language": "python",
   "name": "python3"
  },
  "language_info": {
   "codemirror_mode": {
    "name": "ipython",
    "version": 3
   },
   "file_extension": ".py",
   "mimetype": "text/x-python",
   "name": "python",
   "nbconvert_exporter": "python",
   "pygments_lexer": "ipython3",
   "version": "3.8.5"
  }
 },
 "nbformat": 4,
 "nbformat_minor": 4
}
